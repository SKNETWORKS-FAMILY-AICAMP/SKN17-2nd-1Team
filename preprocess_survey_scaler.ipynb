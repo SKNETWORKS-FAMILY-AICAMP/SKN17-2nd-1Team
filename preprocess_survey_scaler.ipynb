{
 "cells": [
  {
   "cell_type": "code",
   "execution_count": 13,
   "id": "441a039d",
   "metadata": {},
   "outputs": [],
   "source": [
    "import re\n",
    "import numpy as np\n",
    "import pandas as pd"
   ]
  },
  {
   "cell_type": "markdown",
   "id": "894f133e",
   "metadata": {},
   "source": [
    "# csv 경로\n",
    "---"
   ]
  },
  {
   "cell_type": "code",
   "execution_count": 14,
   "id": "bc8f4fc0",
   "metadata": {},
   "outputs": [
    {
     "name": "stdout",
     "output_type": "stream",
     "text": [
      "14\n"
     ]
    }
   ],
   "source": [
    "# 파일 경로\n",
    "file_path = './data/'\n",
    "df = pd.read_csv(f'{file_path}survey_results_public.csv')\n",
    "\n",
    "# 사용할 컬럼\n",
    "cols = ['LearnCode_count'\n",
    "        ,'Lang_Diversity', 'AI_Tool_Count', 'WorkExp', 'YearsCode' \n",
    "        ,'DevRole_Count'\n",
    "        ,'SOHow_count' \n",
    "        ,'SOComm_encoded', 'NEWSOSites_count' \n",
    "        ,'Age_encoded'\n",
    "        ,'Challenges_count', 'AIForecastScore', 'AIThreat_num'\n",
    "        ,'is_churned']\n",
    "print(len(cols))"
   ]
  },
  {
   "cell_type": "markdown",
   "id": "8cbad337",
   "metadata": {},
   "source": [
    "# def\n",
    "---"
   ]
  },
  {
   "cell_type": "code",
   "execution_count": 15,
   "id": "66469322",
   "metadata": {},
   "outputs": [],
   "source": [
    "# 복수 응답 개수 계산\n",
    "# \";\" 또는 \",\" 개수 + 1로 계산함 / 빈 문자열이거나 NaN(None, float('nan'))은 0으로 간주\n",
    "def countMultipleResponses(value):\n",
    "    if pd.isna(value) or str(value).strip() == \"\":\n",
    "        return 0\n",
    "    return len(re.findall(r\"[;,]\", str(value))) + 1"
   ]
  },
  {
   "cell_type": "markdown",
   "id": "c70a16f8",
   "metadata": {},
   "source": [
    "# 타겟 변수\n",
    "- SOVisitFreq(방문 빈도)가 \"매달 1번 이하\", \"Stack Overflow에 방문하지 않음\" 을 이탈로 간주해서 타겟으로 설정\n",
    "---"
   ]
  },
  {
   "cell_type": "code",
   "execution_count": 16,
   "id": "4b7c15e2",
   "metadata": {},
   "outputs": [],
   "source": [
    "# SOVisitFreq 결측치 있는 행 제거\n",
    "df = df.dropna(subset=['SOVisitFreq'])\n",
    "df['is_churned'] = df['SOVisitFreq'].apply(lambda x: 1 if x in ['Less than once per month or monthly', 'I don’t visit Stack Overflow'] else 0)\n",
    "# 이탈 1"
   ]
  },
  {
   "cell_type": "markdown",
   "id": "e3314a0e",
   "metadata": {},
   "source": [
    "# 추가"
   ]
  },
  {
   "cell_type": "code",
   "execution_count": 17,
   "id": "f12fbe57",
   "metadata": {},
   "outputs": [],
   "source": [
    "# 언어 학습 방법\n",
    "df['LearnCode_count'] = df['LearnCode'].apply(countMultipleResponses)"
   ]
  },
  {
   "cell_type": "markdown",
   "id": "7a542606",
   "metadata": {},
   "source": [
    "# 민영\n",
    "---\n",
    "'Lang_Diversity_Scaled', 'AI_Tool_Count_Scaled', 'Pro_Years_Scaled', 'Years_Scaled', 'DevRole_Scaled'"
   ]
  },
  {
   "cell_type": "code",
   "execution_count": 18,
   "id": "c04db336",
   "metadata": {},
   "outputs": [],
   "source": [
    "# 1. 사용 언어 다양성: 사용한 프로그래밍 언어 수 카운트\n",
    "# ───────────────────────────────────────────────\n",
    "df['Lang_Diversity'] = df['LanguageHaveWorkedWith'].apply(countMultipleResponses)\n",
    "\n",
    "# 2. AI 도구 사용 수: 현재 사용하는 AI 도구 개수 카운트\n",
    "# ───────────────────────────────────────────────\n",
    "df['AI_Tool_Count'] = df['AIToolCurrently Using'].apply(countMultipleResponses)\n",
    "\n",
    "# 3. 실무 경력\n",
    "# ───────────────────────────────────────────────\n",
    "# 문자열 → 숫자 변환, 결측치 0 으로 처리\n",
    "df['WorkExp'] = pd.to_numeric(df['WorkExp'], errors='coerce')   # float 형으로 변경\n",
    "df['WorkExp'] = df['WorkExp'].fillna(0)\n",
    "\n",
    "# 4. 코딩 경험 연차: YearsCode 처리\n",
    "# ───────────────────────────────────────────────\n",
    "# 코딩경험 float 형으로 변경, 결측치는 0 로 간주\n",
    "df['YearsCode'] = df['YearsCode'].replace({\n",
    "    'Less than 1 year': 0.5,\n",
    "    'More than 50 years': 51\n",
    "}).astype(float).fillna(0)\n",
    "\n",
    "# 5. 직무 역할 수: DevType에서 역할 개수 카운트\n",
    "# ───────────────────────────────────────────────\n",
    "df['DevRole_Count'] = df['DevType'].apply(countMultipleResponses)"
   ]
  },
  {
   "cell_type": "code",
   "execution_count": 19,
   "id": "11923edc",
   "metadata": {},
   "outputs": [
    {
     "data": {
      "text/plain": [
       "YearsCode\n",
       "0.0     1794\n",
       "0.5      448\n",
       "1.0      615\n",
       "2.0     1530\n",
       "3.0     2368\n",
       "4.0     3128\n",
       "5.0     3550\n",
       "6.0     3345\n",
       "7.0     3218\n",
       "8.0     3334\n",
       "9.0     2175\n",
       "10.0    4416\n",
       "11.0    1588\n",
       "12.0    2487\n",
       "13.0    1434\n",
       "14.0    1789\n",
       "15.0    2740\n",
       "16.0    1363\n",
       "17.0    1013\n",
       "18.0    1200\n",
       "19.0     544\n",
       "20.0    2568\n",
       "21.0     511\n",
       "22.0     829\n",
       "23.0     617\n",
       "24.0     849\n",
       "25.0    1634\n",
       "26.0     618\n",
       "27.0     494\n",
       "28.0     503\n",
       "29.0     271\n",
       "30.0    1419\n",
       "31.0     142\n",
       "32.0     327\n",
       "33.0     218\n",
       "34.0     292\n",
       "35.0     724\n",
       "36.0     217\n",
       "37.0     207\n",
       "38.0     282\n",
       "39.0     143\n",
       "40.0     982\n",
       "41.0     143\n",
       "42.0     284\n",
       "43.0     172\n",
       "44.0     194\n",
       "45.0     250\n",
       "46.0      93\n",
       "47.0      59\n",
       "48.0      64\n",
       "49.0      34\n",
       "50.0      75\n",
       "51.0     242\n",
       "Name: count, dtype: int64"
      ]
     },
     "execution_count": 19,
     "metadata": {},
     "output_type": "execute_result"
    }
   ],
   "source": [
    "df['YearsCode'].value_counts().sort_index()"
   ]
  },
  {
   "cell_type": "markdown",
   "id": "4837b6a9",
   "metadata": {},
   "source": [
    "# 길진\n",
    "---\n",
    "'SOHow_count', 'SOComm_encoded', 'NEWSOSites_count', 'is_churned'"
   ]
  },
  {
   "cell_type": "code",
   "execution_count": 20,
   "id": "62c3b502",
   "metadata": {},
   "outputs": [],
   "source": [
    "# 1. 커뮤니티 방문 사유 수: SOHow 응답 개수 카운트\n",
    "# ───────────────────────────────────────────────\n",
    "df['SOHow_count'] = df['SOHow'].apply(countMultipleResponses)\n",
    "\n",
    "# 2. 커뮤니티 인식 수준: SOComm 응답 인코딩 (0~5)\n",
    "# ───────────────────────────────────────────────\n",
    "so_comm_order = {\n",
    "    'No, not at all': 0,\n",
    "    'No, not really': 1,\n",
    "    'Not sure': 2,\n",
    "    'Neutral': 3,\n",
    "    'Yes, somewhat': 4,\n",
    "    'Yes, definitely': 5\n",
    "}\n",
    "\n",
    "df['SOComm_encoded'] = df['SOComm'].fillna('Neutral').map(so_comm_order)\n",
    "\n",
    "# 3. Stack Overflow 사이트 방문 수: NEWSOSites 응답 개수 카운트\n",
    "# ───────────────────────────────────────────────\n",
    "df['NEWSOSites_count'] = df['NEWSOSites'].apply(countMultipleResponses)"
   ]
  },
  {
   "cell_type": "markdown",
   "id": "1d21f294",
   "metadata": {},
   "source": [
    "# 의중\n",
    "---\n",
    "<br>\n",
    "'Challenges_count', 'AIThreat_num'"
   ]
  },
  {
   "cell_type": "code",
   "execution_count": 21,
   "id": "7197d913",
   "metadata": {},
   "outputs": [],
   "source": [
    "# 1. 결측치 처리: 지정한 컬럼의 null/None 값을 np.nan으로 통일\n",
    "# ───────────────────────────────────────────────\n",
    "for col in [\n",
    "    'AIToolCurrently Using',\n",
    "    'AINextMuch more integrated',\n",
    "    'AINextMore integrated',\n",
    "    'AIChallenges'\n",
    "]:\n",
    "    df[col] = df[col].where(pd.notnull(df[col]), np.nan)\n",
    "\n",
    "# 2. AI 도구 사용 장애 요인 수: 다중 응답 개수 카운트\n",
    "# ───────────────────────────────────────────────\n",
    "df['Challenges_count']= df['AIChallenges'].apply(countMultipleResponses)\n",
    "\n",
    "\n",
    "# 3. 향후 1년 내에 AI 도구가 얼마나 통합될거 같은지에 대한 점수?\n",
    "# ─────────────────────────────────────────────── \n",
    "df['AINextMuch_more_count'] = df['AINextMuch more integrated'].apply(countMultipleResponses)\n",
    "df['AINextMore_count'] = df['AINextMore integrated'].apply(countMultipleResponses)\n",
    "df['AINextLess_count'] = df['AINextLess integrated'].apply(countMultipleResponses)\n",
    "df['AINextMuch_less_count'] = df['AINextMuch less integrated'].apply(countMultipleResponses)\n",
    "\n",
    "df['AIForecastScore'] = (\n",
    "    df['AINextMuch_more_count'] * 2 \n",
    "    + df['AINextMore_count']\n",
    "    - df['AINextLess_count']\n",
    "    - df['AINextMuch_less_count'] * 2\n",
    ")\n",
    "\n",
    "# 4. AI의 위협 인식: 결측치 처리 후 숫자 라벨 인코딩\n",
    "# ───────────────────────────────────────────────\n",
    "# 결측치 \"I’m not sure\"로 처리 후 숫자 인코딩\n",
    "df['AIThreat'] = df['AIThreat'].fillna(\"I'm not sure\")\n",
    "df['AIThreat_num'] = df['AIThreat'].map({\n",
    "    'Yes': 1,\n",
    "    'No': 0,\n",
    "    \"I'm not sure\": 0.5\n",
    "})"
   ]
  },
  {
   "cell_type": "markdown",
   "id": "bf283b01",
   "metadata": {},
   "source": [
    "# 주서\n",
    "\n",
    "---\n",
    "'Age_encoded'"
   ]
  },
  {
   "cell_type": "code",
   "execution_count": null,
   "id": "248328d3",
   "metadata": {},
   "outputs": [],
   "source": [
    "# 나이 구간별 라벨 인코딩\n",
    "# ───────────────────────────────────────────────\n",
    "age_order = {\n",
    "    'Under 18 years old': 0,\n",
    "    '18-24 years old': 1,\n",
    "    '25-34 years old': 2,\n",
    "    '35-44 years old': 3,\n",
    "    '45-54 years old': 4,\n",
    "    '55-64 years old': 5,\n",
    "    '65 years or older': 6,\n",
    "    'Prefer not to say': np.nan\n",
    "}\n",
    "\n",
    "df['Age_encoded'] = df['Age'].map(age_order)\n",
    "df = df.dropna(subset=['Age_encoded'])\n",
    "# df['Age_encoded'] = df['Age_encoded'].astype(int)"
   ]
  },
  {
   "cell_type": "markdown",
   "id": "d3de8624",
   "metadata": {},
   "source": [
    "# 결측치 처리 (임시)\n",
    "---"
   ]
  },
  {
   "cell_type": "code",
   "execution_count": 23,
   "id": "d6043389",
   "metadata": {},
   "outputs": [],
   "source": [
    "df['SOComm_encoded'] = df['SOComm_encoded'].fillna(0)"
   ]
  },
  {
   "cell_type": "markdown",
   "id": "b6a00104",
   "metadata": {},
   "source": [
    "# 전처리한 파일 저장\n",
    "---"
   ]
  },
  {
   "cell_type": "code",
   "execution_count": 26,
   "id": "449d3f48",
   "metadata": {},
   "outputs": [
    {
     "name": "stdout",
     "output_type": "stream",
     "text": [
      "<class 'pandas.core.frame.DataFrame'>\n",
      "Index: 59265 entries, 1 to 65436\n",
      "Data columns (total 14 columns):\n",
      " #   Column            Non-Null Count  Dtype  \n",
      "---  ------            --------------  -----  \n",
      " 0   LearnCode_count   59265 non-null  int64  \n",
      " 1   Lang_Diversity    59265 non-null  int64  \n",
      " 2   AI_Tool_Count     59265 non-null  int64  \n",
      " 3   WorkExp           59265 non-null  float64\n",
      " 4   YearsCode         59265 non-null  float64\n",
      " 5   DevRole_Count     59265 non-null  int64  \n",
      " 6   SOHow_count       59265 non-null  int64  \n",
      " 7   SOComm_encoded    59265 non-null  int64  \n",
      " 8   NEWSOSites_count  59265 non-null  int64  \n",
      " 9   Age_encoded       59265 non-null  float64\n",
      " 10  Challenges_count  59265 non-null  int64  \n",
      " 11  AIForecastScore   59265 non-null  int64  \n",
      " 12  AIThreat_num      59265 non-null  float64\n",
      " 13  is_churned        59265 non-null  int64  \n",
      "dtypes: float64(4), int64(10)\n",
      "memory usage: 6.8 MB\n",
      "None\n"
     ]
    }
   ],
   "source": [
    "df_fin = df[cols].dropna()\n",
    "print(df_fin.info())\n",
    "df_fin.to_csv(f'{file_path}survey_results_cleaned_scaler.csv', index=False, encoding='utf-8-sig')"
   ]
  }
 ],
 "metadata": {
  "kernelspec": {
   "display_name": "ml_env",
   "language": "python",
   "name": "python3"
  },
  "language_info": {
   "codemirror_mode": {
    "name": "ipython",
    "version": 3
   },
   "file_extension": ".py",
   "mimetype": "text/x-python",
   "name": "python",
   "nbconvert_exporter": "python",
   "pygments_lexer": "ipython3",
   "version": "3.12.11"
  }
 },
 "nbformat": 4,
 "nbformat_minor": 5
}
